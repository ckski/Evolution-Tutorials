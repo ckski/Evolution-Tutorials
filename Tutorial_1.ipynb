{
 "cells": [
  {
   "cell_type": "markdown",
   "id": "41b1f057-9320-4152-8614-4a0f567cb42a",
   "metadata": {},
   "source": [
    "# Pixels to SVG using evolutionary algorithms"
   ]
  },
  {
   "cell_type": "markdown",
   "id": "63a4e9ad-e3d1-4046-88d9-3a7f763f57c8",
   "metadata": {},
   "source": [
    "In this tutorial we will build an algorithm that can create an SVG image using pixel data.\n",
    "\n",
    "Specifically, given a 2D array of pixels we want to find an SVG path that matches as best as possible.\n",
    "\n",
    "As you go through the tutorial, make sure to run each code cell by selecting the cell and pressing Ctrl+Enter."
   ]
  },
  {
   "cell_type": "markdown",
   "id": "52ded145-56d7-4663-a26b-c3cb6ffc56cf",
   "metadata": {},
   "source": [
    "## Part 0: Setup\n",
    "\n",
    "Before starting we will put together a basic toolkit:\n",
    "- numpy for working with arrays\n",
    "- a function for rendering an SVG path to a 2D array of pixels\n",
    "- a function for calculating the distance between two 2D arrays\n",
    "- to visualize the pixels, a function to display the 2D array as an image"
   ]
  },
  {
   "cell_type": "code",
   "execution_count": null,
   "id": "19e148c2-708f-4497-beb1-2377a40e05d0",
   "metadata": {},
   "outputs": [],
   "source": [
    "import numpy as np\n",
    "\n",
    "import cairosvg\n",
    "import cffi\n",
    "ffi = cffi.FFI()\n",
    "\n",
    "import io\n",
    "import time\n",
    "\n",
    "# function for rendering an SVG path to a 2D array of pixels\n",
    "def render_svg(path):\n",
    "    w,h = 12,12\n",
    "\n",
    "    # To form a proper path we need to start with an 'm' (move) command\n",
    "    # and also end with a 'z' (close) command.\n",
    "    d_string = f'M{path[0][0]} {path[0][1]}'\n",
    "    d_string += ' '.join([f'L{x} {y}' for x,y in path[1:]])\n",
    "    d_string += 'z'\n",
    "\n",
    "    svg_doc = '<?xml version=\"1.0\"?>'\n",
    "    svg_doc += f'<svg xmlns=\"http://www.w3.org/2000/svg\" width=\"{w}\" height=\"{h}\" viewBox=\"0 0 {w} {h}\">'\n",
    "    svg_doc += '<path d=\"M0 0h12v12H0z\" fill=\"white\"/>'  # Set a white background.\n",
    "    svg_doc += f'<path d=\"{d_string}\"/>'\n",
    "    svg_doc += '</svg>'\n",
    "    \n",
    "    tree = cairosvg.parser.Tree(bytestring=bytes(svg_doc, 'utf-8'))\n",
    "    # Render the parsed SVG onto an image surface.\n",
    "    file_like = io.BytesIO()\n",
    "    surface = cairosvg.surface.PNGSurface(tree, file_like, dpi=96)\n",
    "    # Get a buffer holding the binary data being held in the memory.\n",
    "    arr = ffi.from_buffer(surface.cairo.get_data())\n",
    "\n",
    "    # Transfer the buffer values into a numpy 2D array.\n",
    "    output = np.zeros((w,h), dtype=np.uint8)\n",
    "    for y in range(h):\n",
    "        for x in range(w):\n",
    "            i = y*h*4 + x*4  # 4 bytes per pixel (R, G, B, A)\n",
    "            # Average together the values for a rough conversion to greyscale.\n",
    "            output[y][x] = (int.from_bytes(arr[i], 'little') + int.from_bytes(arr[i+1], 'little') + int.from_bytes(arr[i+2], 'little')) // 3\n",
    "\n",
    "    surface.finish() # Clean up.\n",
    "\n",
    "    return output\n",
    "\n",
    "# function for calculating the distance between two 2D arrays\n",
    "from skimage.metrics import mean_squared_error\n",
    "\n",
    "# function to display the 2D array as an image\n",
    "from PIL import Image\n",
    "def display_pixels(pixels):\n",
    "    display(Image.fromarray(pixels))"
   ]
  },
  {
   "cell_type": "code",
   "execution_count": null,
   "id": "076279d8-79b9-4894-95cd-eeb6f2549a0e",
   "metadata": {},
   "outputs": [],
   "source": [
    "# Let's test out the code.\n",
    "\n",
    "# The input to `render_svg` is a list of (x,y) points that are connected as lines into a closed shape.\n",
    "\n",
    "# Example 1.\n",
    "path = [(0,0), (12,0), (12,12)] # [top-left, top-right, bottom-right]\n",
    "pixels = render_svg(path)\n",
    "display_pixels(pixels)\n",
    "print(pixels)\n",
    "\n",
    "print('---')\n",
    "\n",
    "# Example 2.\n",
    "path = [(6,1), (3,11), (11,5), (1,5), (9,11)]\n",
    "pixels = render_svg(path)\n",
    "display_pixels(pixels)\n",
    "print(pixels)\n",
    "\n",
    "# You can also edit these to try out making your own shape."
   ]
  },
  {
   "cell_type": "markdown",
   "id": "4d4d9c56-9ba7-4e3f-8c78-5888fdea229f",
   "metadata": {},
   "source": [
    "## Part 1: Brute force approach\n",
    "\n",
    "The star we made is the goal we will set for ourselves to try to solve. It is difficult enough to be challenging but not too much so.\n",
    "\n",
    "The first approach we will try to solving it is a brute force search through all potential solutions (we'll call these candidate solutions or candidates for short).\n",
    "\n",
    "Let's assume we know the solution has a size of 5 points and that the points all fall within the range of 0 to 11.\n",
    "To calculate how many candidates there are in total we will count how many choices there are:\n",
    "For each point, we can choose a number from 0 to 11 (12 choices) for the x-coordinate and likewise for the y-coordinate. This gives 12 times 12 (144) choices for a single point.\n",
    "Since we have 5 points, we have a total of `144*144*144*144*144` or `144**5` choices."
   ]
  },
  {
   "cell_type": "code",
   "execution_count": null,
   "id": "0f77fca9-1518-4b60-9337-4be8a050f5d9",
   "metadata": {},
   "outputs": [],
   "source": [
    "# Let's run it to see how big this is!\n",
    "144**5"
   ]
  },
  {
   "cell_type": "markdown",
   "id": "ccabd996-350d-4cf8-946e-5cbde3207312",
   "metadata": {},
   "source": [
    "That sure seems like a big number!\n",
    "Supposing we can process a million candidates per second, how long will it take to search through all of them?"
   ]
  },
  {
   "cell_type": "code",
   "execution_count": null,
   "id": "267ee1c5-0598-4500-a99c-06d489be0092",
   "metadata": {},
   "outputs": [],
   "source": [
    "# Let's calculate in seconds then convert to hours.\n",
    "seconds = (144**5)//1_000_000\n",
    "print(f'{seconds / (60*60):.1f} hours')"
   ]
  },
  {
   "cell_type": "markdown",
   "id": "27e911bc-1d6e-4b30-b6c4-249f727f1980",
   "metadata": {},
   "source": [
    "That's a pretty long time (for such a tiny image) and the million candidates per second processing speed is certainly overestimating how fast our render can work. But at least it would be better than nothing!\n",
    "\n",
    "To implement the brute force we will first write a function that iterates through every possible candidate.\n",
    "By using Python's `yield` it will allow us to use the function as a generator that lazily evaluates the next candidate only when needed (we don't want to *actually* calculate of them)."
   ]
  },
  {
   "cell_type": "code",
   "execution_count": null,
   "id": "65295f4a-cd89-49b3-b3a6-472352a0b1c4",
   "metadata": {},
   "outputs": [],
   "source": [
    "from itertools import product, islice\n",
    "\n",
    "def ordered_candidates():\n",
    "    # `product` calculates the cartesian product of the inputs.\n",
    "    generator = product(\n",
    "        product(range(12), range(12)), \n",
    "        product(range(12), range(12)),\n",
    "        product(range(12), range(12)),\n",
    "        product(range(12), range(12)),\n",
    "        product(range(12), range(12))\n",
    "    )\n",
    "    for candidate in generator:\n",
    "        yield candidate"
   ]
  },
  {
   "cell_type": "code",
   "execution_count": null,
   "id": "622a0153-eb49-4bd0-a7fc-a270a6f3fc41",
   "metadata": {},
   "outputs": [],
   "source": [
    "# Let's test out the code by taking the first 15 candidates.\n",
    "list(islice(ordered_candidates(), 15))"
   ]
  },
  {
   "cell_type": "markdown",
   "id": "a4e97fb1-a9cf-4997-86a0-1500f8246f07",
   "metadata": {},
   "source": [
    "Now we'll combine this with the functions we have for rendering the path to pixels and calculating how far off the candidates are from our target (the error). If a candidate matches exactly it'll have an error of zero and that makes it a perfect solution."
   ]
  },
  {
   "cell_type": "code",
   "execution_count": null,
   "id": "112eb7f2-49b6-4f9d-b4f3-82de287ec930",
   "metadata": {},
   "outputs": [],
   "source": [
    "# First we'll create our goal (the 12x12 star).\n",
    "target = render_svg([(6,1), (3,11), (11,5), (1,5), (9,11)])\n",
    "print('This is our target:')\n",
    "display_pixels(target)\n",
    "print('---')\n",
    "\n",
    "# We'll use mean squared error to get an error.\n",
    "def error(candidate):\n",
    "    pixels = render_svg(candidate)\n",
    "    return round(mean_squared_error(pixels, target))  # We'll round it to keep the output looking prettier.\n",
    "\n",
    "# Now we'll loop through the candidates.\n",
    "for i,candidate in enumerate(ordered_candidates()):\n",
    "    if i > 1000: break  # We'll stop after computing 1000 candidates.\n",
    "    \n",
    "    if i % 100 == 0: # We'll output only for every 100th candidate.\n",
    "        print(error(candidate))\n",
    "        display_pixels(render_svg(candidate))"
   ]
  },
  {
   "cell_type": "markdown",
   "id": "19649913-7eb1-4ce8-9029-feed7cdde6b4",
   "metadata": {},
   "source": [
    "It's a little hard to notice but the first 2 candidates that got displayed are just blank squares. Since we are generating the candidates starting with `(0, 0), (0, 0), (0, 0), (0, 0), (0, 0)`, these first candidates don't form a shape at all so they are rendered as entirely blank.\n",
    "\n",
    "Of the candidates we've searched, which have the lowest error? It looks like the first two... which were completely blank!\n",
    "\n",
    "This highlights a big weakness in searching in such an ordered way. Perhaps we can improve our algorithm by randomizing this order?"
   ]
  },
  {
   "cell_type": "markdown",
   "id": "eac94176-cf32-402e-aa1b-d6f8e79da969",
   "metadata": {},
   "source": [
    "## Part 2: Random search\n",
    "\n",
    "We'll try to improve on our algorithm by randomly generating candidates. This has some downside compared to the ordered approach since to guarantee a complete search through every candidate we must keep track of every candidate that was visited (this will use a lot of memory). But for simplicity, we will ignore this."
   ]
  },
  {
   "cell_type": "code",
   "execution_count": null,
   "id": "0297e84b-534d-457b-99bc-9e45a92735e3",
   "metadata": {},
   "outputs": [],
   "source": [
    "# Let's change the `candidates` function to produce random candidates.\n",
    "\n",
    "from random import randint\n",
    "def random_path():\n",
    "    return [\n",
    "        (randint(0,11), randint(0,11)), \n",
    "        (randint(0,11), randint(0,11)),  \n",
    "        (randint(0,11), randint(0,11)), \n",
    "        (randint(0,11), randint(0,11)), \n",
    "        (randint(0,11), randint(0,11))\n",
    "    ]\n",
    "\n",
    "def random_candidates():\n",
    "    while True: # Loop forever.\n",
    "        yield random_path()"
   ]
  },
  {
   "cell_type": "code",
   "execution_count": null,
   "id": "36c5956e-2625-4ae3-99bc-ff4d017bc6c8",
   "metadata": {},
   "outputs": [],
   "source": [
    "# Again, let's test out the code by taking the first 15 candidates.\n",
    "list(islice(random_candidates(), 15))"
   ]
  },
  {
   "cell_type": "code",
   "execution_count": null,
   "id": "c22e744a-82fa-4443-9974-52793bdcb56f",
   "metadata": {},
   "outputs": [],
   "source": [
    "# And again we'll run another experiment. (Note that we'll reuse some of the results from running the previous cells)\n",
    "\n",
    "print('This is our target:')\n",
    "display_pixels(target)\n",
    "print('---')\n",
    "\n",
    "for i,candidate in enumerate(random_candidates()):\n",
    "    if i > 10: break  # We'll stop after just 10.\n",
    "    \n",
    "    print(error(candidate))\n",
    "    display_pixels(render_svg(candidate))"
   ]
  },
  {
   "cell_type": "markdown",
   "id": "792a2da0-5645-44b0-90ee-7917a03b6b98",
   "metadata": {},
   "source": [
    "Each time this runs it will give different results since it is randomized. Try running it a multiple times to see how much the results vary."
   ]
  },
  {
   "cell_type": "code",
   "execution_count": null,
   "id": "6bbafc34-bff5-478c-ab3a-801683f82740",
   "metadata": {},
   "outputs": [],
   "source": [
    "# Let's show this distribution as a histogram. NOTE: running this may take a couple seconds.\n",
    "\n",
    "import matplotlib.pyplot as plt\n",
    "import numpy as np\n",
    "\n",
    "# Here we use a list comprehension to directly get the error for each of 1000 random paths.\n",
    "errors = np.array([error(random_path()) for _ in range(1000)])\n",
    "\n",
    "plt.hist(errors, bins=25)\n",
    "plt.show()"
   ]
  },
  {
   "cell_type": "markdown",
   "id": "469c90a8-c0d2-4a9e-8b36-20cc495b4b20",
   "metadata": {},
   "source": [
    "This histogram gives us a rough view of the distribution of the errors of candidates. Note that each time the cell is run it will give slightly different results but we can expect the same pattern to show up as long as the random paths we generate have a roughly uniform distribution. (Try running it multiple times to make sure!)\n",
    "\n",
    "Based on this distribution, we can predict what any randomly generated population (a sample population) will typically look like (e.g. how good is the best candidate, how bad is the worst one). \n",
    "Looking at our distribution, we can expect that a randomized search should work better than the ordered brute force search in finding a good solution faster, but it does not seem to be enough to find a perfect solution. So we need a way to turn a good solution into a better one."
   ]
  },
  {
   "cell_type": "markdown",
   "id": "d82c4905-26bf-403b-9da3-c8a2f005b790",
   "metadata": {},
   "source": [
    "## Part 3: Hillclimbing\n",
    "\n",
    "Using our random search, we can find a few good solutions quite easily. If we can take these good solutions and make them even better, then we might be able to keep repeating that until we find a best solution.\n",
    "\n",
    "To accomplish this, we will apply 'hillclimbing.' Starting from an initial candidate we will modify it slightly in a few ways and check if its error has decreased. If it has the process will be repeated. This is like trying to find the top of a hill by continuously moving in whichever direction takes you higher."
   ]
  },
  {
   "cell_type": "code",
   "execution_count": null,
   "id": "87d278e2-cb3a-43f1-b997-fd0363717bf4",
   "metadata": {},
   "outputs": [],
   "source": [
    "# First we will create a function that takes an initial candidate (list of (x,y) points) and outputs modified versions of it.\n",
    "\n",
    "def modified_candidates(initial):\n",
    "    # This gives all combinations of adding or subtracting from x and y.\n",
    "    deltas = [(dx,dy) for dx,dy in product([-1,0,1],[-1,0,1]) if (dx,dy) != (0,0)]\n",
    "    \n",
    "    # For each point in the candidate.\n",
    "    for i in range(len(initial)):\n",
    "        # For each change to make to the point.\n",
    "        for dx,dy in deltas:\n",
    "            copy = initial[:] # Create a new copy.\n",
    "            copy[i] = (copy[i][0] + dx, copy[i][1] + dy) # Apply the delta.\n",
    "            yield copy"
   ]
  },
  {
   "cell_type": "code",
   "execution_count": null,
   "id": "023a607e-06cf-4399-9a5d-38ebaa7d0ed6",
   "metadata": {},
   "outputs": [],
   "source": [
    "# Let's test out this function using a random initial candidate. All the outputs should have only 1 small difference from the initial.\n",
    "initial = random_path()\n",
    "print('Initial:', initial)\n",
    "\n",
    "for candidate in modified_candidates(initial):\n",
    "    print(candidate)"
   ]
  },
  {
   "cell_type": "code",
   "execution_count": null,
   "id": "6d6b56b1-4dda-463a-b34c-91d2a9d81184",
   "metadata": {},
   "outputs": [],
   "source": [
    "# Next, we will use the `modified_candidates` function to find the next better candidate given an initial one.\n",
    "\n",
    "def next_better_candidate(initial):\n",
    "    initial_error = error(initial)\n",
    "    for candidate in modified_candidates(initial):\n",
    "        if error(candidate) < initial_error:\n",
    "            return candidate\n",
    "    return None # Return None if nothing better was found.\n",
    "\n",
    "# And lastly, this is wrapped in a loop to form the hillclimbing algorithm.\n",
    "def hillclimb(initial):\n",
    "    prev = initial\n",
    "    while True:\n",
    "        new = next_better_candidate(prev)\n",
    "        if new is None:\n",
    "            return prev\n",
    "        prev = new\n",
    "        "
   ]
  },
  {
   "cell_type": "code",
   "execution_count": null,
   "id": "eea03a5a-61d5-43e8-8fba-6c52d1e2fdbe",
   "metadata": {},
   "outputs": [],
   "source": [
    "# And here we'll test it out.\n",
    "\n",
    "initial = random_path()\n",
    "print('Initial:', initial)\n",
    "print('Error:', error(initial))\n",
    "display_pixels(render_svg(initial))\n",
    "\n",
    "print('---')\n",
    "\n",
    "new = hillclimb(initial)\n",
    "print('New:', new)\n",
    "print('Error:', error(new))\n",
    "display_pixels(render_svg(new))"
   ]
  },
  {
   "cell_type": "markdown",
   "id": "40457e8a-6990-442b-95f4-2c0aedc0720f",
   "metadata": {},
   "source": [
    "Try running this multiple times and see how close you can get to a perfect solution. How lucky do we need to be?\n",
    "\n",
    "Let's do an experiment to see how often the hillclimbing finds a solution."
   ]
  },
  {
   "cell_type": "code",
   "execution_count": null,
   "id": "27cc05a9-48ed-42fd-a6e5-5b67da510b16",
   "metadata": {},
   "outputs": [],
   "source": [
    "# Note that this will take a while to run. Maybe a minute or so.\n",
    "\n",
    "# For each trial we will generate a random path, perform hillclimbing, and return the final error.\n",
    "def run_trial():\n",
    "    new = hillclimb(random_path())\n",
    "    return error(new)\n",
    "\n",
    "SAMPLE_SIZE = 250\n",
    "\n",
    "start = time.time()\n",
    "errors = np.array([run_trial() for _ in range(SAMPLE_SIZE)])\n",
    "print(f'Took {time.time()-start:.1f}s')\n",
    "plt.hist(errors, bins=16)\n",
    "plt.show()"
   ]
  },
  {
   "cell_type": "code",
   "execution_count": null,
   "id": "f3d63a84-7704-40ce-9220-5e7f6da48a4e",
   "metadata": {},
   "outputs": [],
   "source": [
    "# We can count how many 0's (perfect solutions) we got:\n",
    "sum(errors == 0)"
   ]
  },
  {
   "cell_type": "markdown",
   "id": "02006bcf-1ebd-472e-930b-68b74222a222",
   "metadata": {},
   "source": [
    "Most likely this was more than 0. If you run it with a very large sample size the proportion should come out to about 5%. This looks somewhat promising! Let's try turning it into a complete algorithm."
   ]
  },
  {
   "cell_type": "code",
   "execution_count": null,
   "id": "74463fa5-bbe9-4fb5-970a-2cb7c9fdc8e1",
   "metadata": {},
   "outputs": [],
   "source": [
    "# Depending on the CPU performance (and some randomness) this may take a bit of time to run.\n",
    "\n",
    "def find_solution():\n",
    "    # Loop repeatedly until a solution is found.\n",
    "    while True:\n",
    "        new = hillclimb(random_path())\n",
    "        if error(new) == 0:\n",
    "            return new\n",
    "        \n",
    "start = time.time()\n",
    "solution = find_solution()\n",
    "print(f'Took {time.time()-start:.1f}s')\n",
    "print(solution)"
   ]
  },
  {
   "cell_type": "markdown",
   "id": "291c4946-05bb-4932-bbc0-0c05ebd6dffb",
   "metadata": {},
   "source": [
    "This is all great, but there's one simplification that we've made here. We've been assuming that we know the size of the solution. Without this knowledge, the algorithm would need to make some guess about what sizes to try. It's not impractical to try multiple ones, but this does create another higher level of search that needs to happen."
   ]
  },
  {
   "cell_type": "markdown",
   "id": "0dec4a0c-3d70-4482-9ea8-fbe080086fcb",
   "metadata": {},
   "source": [
    "## Wrap-up\n",
    "\n",
    "We're off to a good start.\n",
    "\n",
    "We began with the problem of finding an SVG path that matches some shape given as pixel data. The three approaches we went through were brute force, randomized search, and hillclimbing. The simplified version of the problem (where we know the size of the solution) was solvable with decent performance using hillclimbing starting from randomized initial candidates.\n",
    "\n",
    "In the next part, we will try evolutionary algorithms to solve the more general case where we do not assume knowing the size of the solution."
   ]
  },
  {
   "cell_type": "markdown",
   "id": "70dff839-ca16-4118-a2a9-63aab4c3bbe3",
   "metadata": {},
   "source": [
    "## Complete code\n",
    "\n",
    "The final code for our solver with everything included is below."
   ]
  },
  {
   "cell_type": "code",
   "execution_count": null,
   "id": "bcaf42a6-32ca-4725-abaf-23141bac3c09",
   "metadata": {},
   "outputs": [],
   "source": [
    "# -------------------------------------------------------------------------------------------------\n",
    "# Prepare our toolkit\n",
    "# -------------------------------------------------------------------------------------------------\n",
    "import numpy as np\n",
    "\n",
    "import cairosvg\n",
    "import cffi\n",
    "ffi = cffi.FFI()\n",
    "\n",
    "import io\n",
    "import time\n",
    "\n",
    "# function for rendering an SVG path to a 2D array of pixels\n",
    "def render_svg(path):\n",
    "    w,h = 12,12\n",
    "\n",
    "    d_string = f'M{path[0][0]} {path[0][1]}'\n",
    "    d_string += ' '.join([f'L{x} {y}' for x,y in path[1:]])\n",
    "    d_string += 'z'\n",
    "\n",
    "    svg_doc = '<?xml version=\"1.0\"?>'\n",
    "    svg_doc += f'<svg xmlns=\"http://www.w3.org/2000/svg\" width=\"{w}\" height=\"{h}\" viewBox=\"0 0 {w} {h}\">'\n",
    "    svg_doc += '<path d=\"M0 0h12v12H0z\" fill=\"white\"/>'  # Set a white background.\n",
    "    svg_doc += f'<path d=\"{d_string}\"/>'\n",
    "    svg_doc += '</svg>'\n",
    "    \n",
    "    tree = cairosvg.parser.Tree(bytestring=bytes(svg_doc, 'utf-8'))\n",
    "    file_like = io.BytesIO()\n",
    "    surface = cairosvg.surface.PNGSurface(tree, file_like, dpi=96)\n",
    "    arr = ffi.from_buffer(surface.cairo.get_data())\n",
    "\n",
    "    output = np.zeros((w,h), dtype=np.uint8)\n",
    "    for y in range(h):\n",
    "        for x in range(w):\n",
    "            i = y*h*4 + x*4\n",
    "            output[y][x] = (int.from_bytes(arr[i], 'little') + int.from_bytes(arr[i+1], 'little') + int.from_bytes(arr[i+2], 'little')) // 3\n",
    "\n",
    "    surface.finish()\n",
    "    return output\n",
    "\n",
    "from skimage.metrics import mean_squared_error\n",
    "\n",
    "from PIL import Image\n",
    "def display_pixels(pixels):\n",
    "    display(Image.fromarray(pixels))\n",
    "# -------------------------------------------------------------------------------------------------\n",
    "\n",
    "target = render_svg([(6,1), (3,11), (11,5), (1,5), (9,11)])\n",
    "print('This is our target:')\n",
    "display_pixels(target)\n",
    "print('---')\n",
    "\n",
    "def error(candidate):\n",
    "    pixels = render_svg(candidate)\n",
    "    return round(mean_squared_error(pixels, target))\n",
    "\n",
    "from random import randint\n",
    "def random_path():\n",
    "    return [\n",
    "        (randint(0,11), randint(0,11)), \n",
    "        (randint(0,11), randint(0,11)),  \n",
    "        (randint(0,11), randint(0,11)), \n",
    "        (randint(0,11), randint(0,11)), \n",
    "        (randint(0,11), randint(0,11))\n",
    "    ]\n",
    "\n",
    "from itertools import product, islice\n",
    "def modified_candidates(initial):\n",
    "    # This gives all combinations of adding or subtracting from x and y.\n",
    "    deltas = [(dx,dy) for dx,dy in product([-1,0,1],[-1,0,1]) if (dx,dy) != (0,0)]\n",
    "    \n",
    "    # For each point in the candidate.\n",
    "    for i in range(len(initial)):\n",
    "        # For each change to make to the point.\n",
    "        for dx,dy in deltas:\n",
    "            copy = initial[:] # Create a new copy.\n",
    "            copy[i] = (copy[i][0] + dx, copy[i][1] + dy) # Apply the delta.\n",
    "            yield copy\n",
    "\n",
    "def next_better_candidate(initial):\n",
    "    initial_error = error(initial)\n",
    "    for candidate in modified_candidates(initial):\n",
    "        if error(candidate) < initial_error:\n",
    "            return candidate\n",
    "    return None\n",
    "\n",
    "def hillclimb(initial):\n",
    "    prev = initial\n",
    "    while True:\n",
    "        new = next_better_candidate(prev)\n",
    "        if new is None:\n",
    "            return prev\n",
    "        prev = new\n",
    "\n",
    "def find_solution():\n",
    "    while True:\n",
    "        new = hillclimb(random_path())\n",
    "        if error(new) == 0:\n",
    "            return new\n",
    "\n",
    "find_solution()"
   ]
  },
  {
   "cell_type": "markdown",
   "id": "e9936933-4dd9-4bd8-ba67-89d3f49d08ef",
   "metadata": {},
   "source": [
    "## Exercise\n",
    "There is an improvement possible that will make the average performance of our solver better.\n",
    "\n",
    "Your goal: modify the solver by implementing `find_solution_improved()` so that the average performance is (consistently) less than 50% of the original's average.\n",
    "\n",
    "Hint: It has to do with how the random starting candidate is chosen as the input argument to the `hillclimb()` function. Is there a better way to choose this than using an entirely random one?\n",
    "\n",
    "Some helper code is provided to help with running the solvers multiple times to measure average performance."
   ]
  },
  {
   "cell_type": "code",
   "execution_count": null,
   "id": "c63777b8-0c05-47f3-bcfe-51a857f84871",
   "metadata": {},
   "outputs": [],
   "source": [
    "# Helper code for the exercise.\n",
    "\n",
    "def find_solution_original():\n",
    "    while True:\n",
    "        new = hillclimb(random_path())\n",
    "        if error(new) == 0:\n",
    "            return new\n",
    "    \n",
    "def find_solution_improved():\n",
    "    pass\n",
    "\n",
    "results_a = []\n",
    "for _ in range(10):\n",
    "    start = time.time()\n",
    "    find_solution_improved()\n",
    "    duration = time.time()-start\n",
    "    print(f'Trial A: {duration:.2f}s')\n",
    "    results_a.append(duration)\n",
    "    \n",
    "results_a = np.array(results_a)\n",
    "print(results_a)\n",
    "    \n",
    "results_b = []\n",
    "for _ in range(10):\n",
    "    start = time.time()\n",
    "    find_solution_original()\n",
    "    duration = time.time()-start\n",
    "    print(f'Trial B: {duration:.2f}s')\n",
    "    results_b.append(duration)\n",
    "\n",
    "results_b = np.array(results_b)\n",
    "print(results_b)\n",
    "\n",
    "print('---')\n",
    "\n",
    "if results_a.mean() < results_b.mean() * 0.5:\n",
    "    print('Great job!!')\n",
    "else:\n",
    "    print('Keep trying :)')"
   ]
  }
 ],
 "metadata": {
  "kernelspec": {
   "display_name": "Python 3 (ipykernel)",
   "language": "python",
   "name": "python3"
  },
  "language_info": {
   "codemirror_mode": {
    "name": "ipython",
    "version": 3
   },
   "file_extension": ".py",
   "mimetype": "text/x-python",
   "name": "python",
   "nbconvert_exporter": "python",
   "pygments_lexer": "ipython3",
   "version": "3.8.10"
  }
 },
 "nbformat": 4,
 "nbformat_minor": 5
}
